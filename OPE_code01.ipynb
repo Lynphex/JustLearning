{
 "cells": [
  {
   "cell_type": "code",
   "execution_count": 48,
   "id": "518aab33",
   "metadata": {},
   "outputs": [
    {
     "name": "stdout",
     "output_type": "stream",
     "text": [
      "Collecting pdf2image\n",
      "  Downloading pdf2image-1.17.0-py3-none-any.whl (11 kB)\n",
      "Collecting pytesseract\n",
      "  Downloading pytesseract-0.3.13-py3-none-any.whl (14 kB)\n",
      "Requirement already satisfied: pillow in c:\\users\\drakharys\\anaconda3\\lib\\site-packages (from pdf2image) (9.2.0)\n",
      "Requirement already satisfied: packaging>=21.3 in c:\\users\\drakharys\\anaconda3\\lib\\site-packages (from pytesseract) (21.3)\n",
      "Requirement already satisfied: pyparsing!=3.0.5,>=2.0.2 in c:\\users\\drakharys\\anaconda3\\lib\\site-packages (from packaging>=21.3->pytesseract) (3.0.9)\n",
      "Installing collected packages: pdf2image, pytesseract\n",
      "Successfully installed pdf2image-1.17.0 pytesseract-0.3.13\n",
      "Note: you may need to restart the kernel to use updated packages.\n"
     ]
    }
   ],
   "source": [
    "pip install pdf2image pytesseract"
   ]
  },
  {
   "cell_type": "code",
   "execution_count": 1,
   "id": "3f0a9950",
   "metadata": {},
   "outputs": [],
   "source": [
    "import os\n",
    "import pdfplumber\n",
    "import pytesseract\n",
    "pytesseract.pytesseract.tesseract_cmd = r'C:\\Program Files\\Tesseract-OCR\\tesseract.exe'\n",
    "from pdf2image import convert_from_path\n",
    "import pandas as pd\n",
    "import re"
   ]
  },
  {
   "cell_type": "code",
   "execution_count": 2,
   "id": "4ce9e6bd",
   "metadata": {},
   "outputs": [],
   "source": [
    "def extract_text_from_image(page):\n",
    "    \"\"\"Manejo de PDFs escaneados usando OCR\"\"\"\n",
    "    img = page.to_image(resolution=300)\n",
    "    return pytesseract.image_to_string(img.original)"
   ]
  },
  {
   "cell_type": "code",
   "execution_count": 16,
   "id": "77789faf",
   "metadata": {},
   "outputs": [],
   "source": [
    "# Función para extraer preguntas del archivo PDF de preguntas\n",
    "\n",
    "def extract_questions(pdf_path):\n",
    "    \n",
    "    questions = []\n",
    "    community_id = os.path.basename(pdf_path).split(\"-\")[0]\n",
    "    \n",
    "    try:\n",
    "        with pdfplumber.open(pdf_path) as pdf:\n",
    "            full_text = \"\"\n",
    "            \n",
    "            for page in pdf.pages:\n",
    "                # Intenta extracción de texto normal\n",
    "                text = page.extract_text()\n",
    "                \n",
    "                # Si falla la extracción normal, usa OCR\n",
    "                if not text or len(text.strip()) < 50:\n",
    "                    text = extract_text_from_image(page)\n",
    "                \n",
    "                full_text += text + \"\\n\"\n",
    "\n",
    "            # Buscar el inicio de las preguntas\n",
    "            start_match = re.search(r\"\\n1[\\.\\-\\)\\s]\", full_text)\n",
    "            if start_match:\n",
    "                full_text = full_text[start_match.start():]\n",
    "\n",
    "            # Expresión regular para las preguntas\n",
    "            question_pattern = r'''\n",
    "            (\\d+)[\\.\\-\\)\\s]*\\s*       # Número de pregunta\n",
    "            (.*?)\\n                # Texto de la pregunta\n",
    "            [aA]\\)\\s*(.*?)\\n          # Opción A\n",
    "            [bB]\\)\\s*(.*?)\\n           # Opción B\n",
    "            [cC]\\)\\s*(.*?)\\n           # Opción C\n",
    "            [dD]\\)\\s*(.*?)          # Opción D\n",
    "            (?=\\n\\d+[\\.\\-\\)\\s]|$)        # Lookahead para siguiente pregunta o fin\n",
    "            '''\n",
    "            \n",
    "            matches = re.findall(question_pattern, full_text, re.DOTALL | re.VERBOSE | re.IGNORECASE)\n",
    "\n",
    "            for match in matches:\n",
    "                question_id = match[0]\n",
    "                question_text = match[1].strip()\n",
    "                options = {\n",
    "                    'A': match[2].strip(),\n",
    "                    'B': match[3].strip(),\n",
    "                    'C': match[4].strip(),\n",
    "                    'D': match[5].strip()\n",
    "                }\n",
    "            \n",
    "                    # Validación básica\n",
    "                if int(question_id) <= 200:\n",
    "                    questions.append({\n",
    "                        'ComunidadID': community_id,\n",
    "                        'PreguntaID': int(question_id),\n",
    "                        'Pregunta': question_text,\n",
    "                        **options\n",
    "                    })\n",
    "    \n",
    "    except Exception as e:\n",
    "        print(f\"Error procesando {pdf_path}: {str(e)}\")\n",
    "    \n",
    "    return questions"
   ]
  },
  {
   "cell_type": "code",
   "execution_count": 17,
   "id": "87d0fae3",
   "metadata": {
    "scrolled": true
   },
   "outputs": [],
   "source": [
    "# Función para procesar todos los PDFs de la carpeta\n",
    "def process_all_pdfs(pdf_folder):\n",
    "    all_questions = []\n",
    "    \n",
    "    # Listar todos los archivos en la carpeta\n",
    "    for pdf_file in os.listdir(pdf_folder):\n",
    "        if pdf_file.endswith(\".pdf\") and \"Preguntas\" in pdf_file:\n",
    "            pdf_path = os.path.join(pdf_folder, pdf_file)\n",
    "            print(f\"Procesando archivo: {pdf_file}\")\n",
    "            \n",
    "            # Extraer solo las preguntas\n",
    "            questions_data = extract_questions(pdf_path)\n",
    "\n",
    "            # Agregar preguntas de este archivo a la lista global\n",
    "            all_questions.extend(questions_data)\n",
    "    \n",
    "    # Guardar todos los datos extraídos en un CSV\n",
    "    df = pd.DataFrame(all_questions)\n",
    "    df.to_csv(\"preguntas.csv\", index=False, encoding=\"utf-8\")\n",
    "    print(\"Archivo CSV con preguntas generado con éxito!\")"
   ]
  },
  {
   "cell_type": "code",
   "execution_count": 18,
   "id": "a32e7904",
   "metadata": {},
   "outputs": [
    {
     "name": "stdout",
     "output_type": "stream",
     "text": [
      "Procesando archivo: AND2021-Preguntas.pdf\n",
      "Procesando archivo: AND2023-Preguntas.pdf\n",
      "Procesando archivo: ARA2022-Preguntas.pdf\n",
      "Procesando archivo: ARA2024-Preguntas.pdf\n",
      "Procesando archivo: AS2024-Preguntas.pdf\n",
      "Procesando archivo: BA2023-Preguntas.pdf\n",
      "Procesando archivo: CA2024-Preguntas.pdf\n",
      "Procesando archivo: CAN2019-Preguntas.pdf\n",
      "Procesando archivo: CL2023-Preguntas.pdf\n",
      "Procesando archivo: CLM2022-Preguntas.pdf\n",
      "Procesando archivo: CLM2024-Preguntas.pdf\n",
      "Procesando archivo: CM2024-Preguntas.pdf\n",
      "Procesando archivo: CN2019-Preguntas.pdf\n",
      "Procesando archivo: CV2022-Preguntas.pdf\n",
      "Procesando archivo: EX2022-Preguntas.pdf\n",
      "Procesando archivo: GA202301-Preguntas01.pdf\n",
      "Procesando archivo: GA202302-Preguntas02.pdf\n",
      "Procesando archivo: LR2021-Preguntas.pdf\n",
      "Procesando archivo: LR2024-Preguntas.pdf\n",
      "Procesando archivo: MA2019-Preguntas.pdf\n",
      "Procesando archivo: MU2023-Preguntas.pdf\n",
      "Procesando archivo: NV2022-Preguntas.pdf\n",
      "Procesando archivo: NV2024-Preguntas.pdf\n",
      "Procesando archivo: PV2022-Preguntas.pdf\n",
      "Procesando archivo: PV2023-Preguntas.pdf\n",
      "Archivo CSV con preguntas generado con éxito!\n"
     ]
    }
   ],
   "source": [
    "# Carpeta donde se encuentran los PDFs\n",
    "pdf_folder = \"..\\Examenes\"\n",
    "\n",
    "# Procesar todos los PDFs en la carpeta\n",
    "process_all_pdfs(pdf_folder)"
   ]
  },
  {
   "cell_type": "code",
   "execution_count": null,
   "id": "2dd54e15",
   "metadata": {},
   "outputs": [],
   "source": [
    "preguntas_file = pd.read_csv(\"preguntas.csv\")\n",
    "\n",
    "preguntas_file.head(20)\n"
   ]
  },
  {
   "cell_type": "code",
   "execution_count": 12,
   "id": "7b2e51dc",
   "metadata": {},
   "outputs": [
    {
     "name": "stdout",
     "output_type": "stream",
     "text": [
      "ComunidadID únicas encontradas y su conteo de preguntas:\n",
      "PV2022      330\n",
      "PV2023      221\n",
      "AND2021     152\n",
      "AND2023     151\n",
      "EX2022      142\n",
      "CN2019      130\n",
      "MU2023      122\n",
      "CM2024      121\n",
      "NV2022      110\n",
      "GA202302    102\n",
      "NV2024      100\n",
      "MA2019      100\n",
      "LR2021      100\n",
      "LR2024       96\n",
      "CA2024       95\n",
      "CV2022       70\n",
      "CLM2022      69\n",
      "AS2024       60\n",
      "ARA2022      57\n",
      "CLM2024      55\n",
      "CL2023       48\n",
      "ARA2024      12\n",
      "GA202301     10\n",
      "BA2023        8\n",
      "Name: ComunidadID, dtype: int64\n"
     ]
    }
   ],
   "source": [
    "# Compruebo la cantidad de cuestionarios y su cantidad de preguntas\n",
    "comunidad_counts = preguntas_file['ComunidadID'].value_counts()\n",
    "\n",
    "print(\"ComunidadID únicas encontradas y su conteo de preguntas:\")\n",
    "print(comunidad_counts)"
   ]
  },
  {
   "cell_type": "code",
   "execution_count": 111,
   "id": "6ff5df6f",
   "metadata": {},
   "outputs": [
    {
     "name": "stdout",
     "output_type": "stream",
     "text": [
      "[{'ComunidadID': 'NV2022', 'PreguntaID': 195, 'Pregunta': 'E/2021, de 10 de septiembre, de la Consejera\\nde Salud del Servicio Navarro de Salud-Osasunbidea)\\n6 DE FEBRERO DE 2022\\nNO PASE A LA HOJA SIGUIENTE\\nMIENTRAS NO SE LE INDIQUE QUE PUEDE COMENZAR\\n1) ¿Cómo se denomina a la probabilidad de que un individuo enfermo tenga un\\ntest positivo?', 'A': 'Sensibilidad', 'B': 'Especificidad', 'C': 'Valor Predictivo Positivo', 'D': 'Valor Predictivo Negativo\\n2) Una quemadura de grado 2 sufrida por un paciente durante su episodio de\\nhospitalización, es un tipo de indicador:\\na) Indicador basado en una proporción\\nb) Indicador basado en el índice\\nc) Indicador de estructura\\nd) Indicador basado en un suceso centinela\\n3) En relación a los planes de cuidados estandarizados, señale la respuesta\\nincorrecta:\\na) Se basan en que ante problemas comunes existen respuestas similares\\nb) No presuponen una limitación a la individualización de la atención\\nc) Es un proceso dinámico durante el tiempo de ingreso\\nd) Se centran en que cada persona es un ser único\\n4) Respecto a la taxonomía NOC señale la respuesta correcta:\\na) El indicador, es todo tratamiento basado en el conocimiento y juicio clínico que\\nrealiza un profesional de enfermería para favorecer el resultado del paciente\\nb) Un resultado se define como el estado, conducta o percepción de un individuo,\\nfamilia o comunidad, medido a lo largo de un continuo como respuesta a una o\\nmás intervenciones de enfermería\\nc) Cada resultado contiene: una etiqueta, una definición, un indicador, una escala\\nde tipo Likert de 4 puntos y una lista de referencias\\nd) Todas son incorrectas\\n5) Al valorar un paciente usted observa taquipnea en períodos mantenidos con\\npausas bruscas entre los períodos. ¿Qué patrón respiratorio presenta?\\na) Respiración de Biot\\nb) Respiración diafragmática\\nc) Respiración de Cheyne-Stoke\\nd) Respiración de Kussmaul\\n6) No es una medida básica de obligado cumplimiento para la prevención de la\\nneumonía asociada a la ventilación mecánica (Neumonía Zero):\\na) Formación y entrenamiento para la manipulación de la vía aérea\\nb) Higiene bucal enfermo con clorhexidina 0.12-0.2%\\nc) Aspiración continua de secreciones subglóticas\\nd) Evitar cambios programados de tubuladuras\\n7) En relación al cribado poblacional de cáncer de mama y colorrectal en la\\nComunidad Foral de Navarra, se realizará con los siguientes criterios, salvo:\\na) En el caso del cribado poblacional de cáncer de mama, se realizará a mujeres\\nde edades comprendidas entre 45 y 69 años\\nb) El intervalo de exploración establecido en el cribado de cáncer de mama es cada'}, {'ComunidadID': 'NV2022', 'PreguntaID': 2, 'Pregunta': 'años\\nc) En el caso del cribado poblacional de cáncer colorrectal, se realiza a hombres y\\nmujeres de edades comprendidas entre 50 y 79 años\\nd) El intervalo de exploración establecido en el cribado de cáncer de colon es cada\\n2 años\\n8) Los datos personales obtenidos a partir de un tratamiento técnico específico,\\nrelativos a las características físicas, fisiológicas o conductuales de una\\npersona física que permitan o confirmen la identificación única de dicha\\npersona, como imágenes faciales o datos dactiloscópicos, reciben el nombre\\nde:', 'A': 'Datos biométricos', 'B': 'Datos identificativos', 'C': 'Datos personales', 'D': 'Datos genéticos\\n9) Los profesionales sanitarios desarrollan, entre otras, funciones en los\\námbitos:\\na) Asistencial, investigador, docente, de gestión clínica, de prevención y de\\ninformación y educación sanitarias\\nb) Asistencial, docente, de gestión clínica, de prevención y de información y\\neducación sanitarias\\nc) Asistencial, investigador, de gestión clínica, de prevención y de información y\\neducación sanitarias\\nd) Asistencial, investigador, docente, de gestión clínica y de información y\\neducación sanitarias\\n10) Señale la respuesta incorrecta respecto a los estados hipertensivos del\\nembarazo:\\na) Proteinuria superior a 5 g/24 h. y elevación de transaminasas, son criterios de\\ngravedad de la preeclampsia\\nb) La preeclampsia es el estado más grave de la enfermedad hipertensiva del\\nembarazo\\nc) En la eclampsia, además del aumento de tensión arterial, se produce un cuadro\\nconvulsivo tonicoclónico e incluso estados de coma\\nd) El sulfato de magnesio es el anticonvulsivo ideal para el tratamiento de la\\neclampsia\\n11) En relación al CMBD, ¿cuál de las siguientes opciones es correcta sobre el\\ncontenido del registro?\\na) Centro sanitario, diagnóstico principal y edad\\nb) Diagnóstico principal, edad, fecha y hora de finalización de la atención\\nc) Circunstancias al alta, motivo de ingreso y edad\\nd) Fecha de nacimiento, circunstancia de la atención y diagnóstico principal\\n12) Señale cuál es un método cualitativo para la identificación de problemas en la\\nplanificación sanitaria:\\na) Método Hanlon\\nb) Técnica Delphi\\nc) Técnica de regresión\\nd) Diagrama de Pareto\\n13) El Cefonicid es una cefalosporina de:\\na) 1ª Generación\\nb) 2ª Generación\\nc) 3ª Generación\\nd) 4ª Generación\\n14) Según la OMS, la definición de “un proceso de autoformación de los individuos\\nen función de sus propias necesidades y las de su comunidad, que crea en\\nellos un sentido de responsabilidad en cuanto a su propio bienestar y al de su\\ncomunidad, así como, la capacidad de actuar consciente y constructivamente\\nen su desarrollo” corresponde a:\\na) Educación para la Salud\\nb) Atención Primaria de Salud\\nc) Participación Comunitaria\\nd) Atención Comunitaria\\n15) No es una característica del modelo Beveridge:\\na) Existencia de algunos copagos por parte de los usuarios\\nb) Financiación predominante a través de impuestos\\nc) Existencia de cierto sector privado\\nd) Financiación por cuotas obligatorias pagadas por empresarios y trabajadores o\\na través de los impuestos\\n16) El análisis donde se comparan los efectos positivos y negativos de dos o más\\nopciones de un mismo programa o intervención sanitaria se denomina:\\na) Análisis coste-efectividad\\nb) Análisis coste-beneficio\\nc) Análisis coste-eficiencia\\nd) Análisis coste-utilidad\\n17) Durante la etapa escolar:\\na) El crecimiento es continuo y regular\\nb) El perímetro cefálico aumenta de 5 a 6 cm durante la totalidad de esta fase\\nc) El pensamiento evoluciona desde la fase de pensamiento concreto hasta el\\ncomienzo del razonamiento abstracto\\nd) Se hipotrofian el tejido linfoide y el adenoide\\n18) La hospitalización del niño puede suponer un proceso traumático y difícil de\\naceptar tanto para el menor como para su familia. Así pues, es necesaria una\\ncorrecta intervención en el entorno del niño y su familia para minimizar el\\nimpacto negativo de dicha hospitalización. ¿Cuál de las siguientes\\nintervenciones no sería correcta para minimizar dicho impacto?\\na) Permitir que el niño se aísle en su mundo, proporcionándole intimidad y\\ntranquilidad\\nb) Proporcionar un ambiente de optimismo que reconforte tanto al niño como a su\\nfamilia y les ayude a superar el proceso de hospitalización\\nc) Ofrecer apoyo psicológico a aquellos padres que lo precisen/soliciten\\nd) Facilitar recursos educativos precisos para que el niño disponga, tanto durante\\nel ingreso como posteriormente en su domicilio (si fuera preciso), de una\\ncontinuidad en su formación\\n19) Señale la secuencia correcta de los cuatro eslabones que comprende la\\ncadena de supervivencia en el adulto:\\na) 1. Reconocimiento precoz y Activación del Servicio de Emergencias, 2.\\nReanimación precoz, 3. Desfibrilación precoz y 4. Soporte vital avanzado y\\nCuidados post-resucitación\\nb) 1. Reanimación precoz, 2. Reconocimiento precoz y Activación del Servicio de\\nEmergencias, 3. Desfibrilación precoz y 4. Soporte vital avanzado y Cuidados\\npost-resucitación\\nc) 1. Reconocimiento precoz y Activación del Servicio de Emergencias, 2.\\nDesfibrilación precoz, 3. Reanimación precoz, y 4. Soporte vital avanzado y\\nCuidados post-resucitación\\nd) 1. Soporte vital avanzado y Cuidados post-resucitación, 2. Desfibrilación precoz,'}, {'ComunidadID': 'NV2022', 'PreguntaID': 3, 'Pregunta': 'Reanimación precoz y 4. Reconocimiento precoz y Activación del Servicio de\\nEmergencias\\n20) No es un principio básico de la Ley 41/2002, de 14 de noviembre, básica\\nreguladora de la autonomía del paciente y de derechos y obligaciones en\\nmateria de información y documentación clínica:', 'A': 'Toda persona usuaria tiene derecho a negarse al tratamiento, excepto en los\\ncasos determinados en la Ley. Su negativa al tratamiento constará por escrito', 'B': 'Los pacientes o usuarios no tienen el deber de facilitar los datos sobre su estado\\nfísico o sobre su salud de manera leal y verdadera, así como el de colaborar en\\nsu obtención, especialmente cuando sean necesarios por razones de interés\\npúblico o con motivo de la asistencia sanitaria', 'C': 'La persona que elabore o tenga acceso a la información y la documentación\\nclínica está obligada a guardar la reserva debida', 'D': 'Todo profesional que interviene en la actividad asistencial está obligado no sólo\\na la correcta prestación de sus técnicas, sino al cumplimiento de los deberes de\\ninformación y de documentación clínica, y al respeto de las decisiones adoptadas\\nlibre y voluntariamente por el paciente\\n21) La definición de familia como “institución social básica a partir de la cual se\\nhan desarrollado otras instituciones conforme la creciente complejidad\\ncultural las ha hecho necesarias”, fue descrita por:\\na) Hernán San Martín\\nb) Johnson\\nc) Horton y Hunt\\nd) Parsons\\n22) Un profesional de enfermería se propone formar un grupo de apoyo de\\npersonas que se ocupan del cuidado de familiares con enfermedades\\ncrónicas. A la hora de conformar el grupo tendrá en cuenta que:\\na) El número de componentes no es un factor a considerar\\nb) No es necesario que todos los miembros compartan un mismo objetivo\\nc) El profesional de enfermería es responsable de dirigir la dinámica del grupo\\nd) Es necesario distribuir tareas y asumir diferentes roles\\n23) ¿Cuál de los siguientes no es un objetivo general de la Estrategia Navarra de\\natención integrada a pacientes crónicos y pluripatológicos?\\na) Mejorar la capacidad funcional y calidad de vida de pacientes y cuidadores\\nb) Contribuir a la sostenibilidad del sistema asistencial\\nc) Promover la autonomía y la capacitación de pacientes y cuidadores\\nd) Reducir las urgencias hospitalarias y extrahospitalarias\\n24) ¿Cuál de las siguientes no es una Enfermedad de Transmisión Sexual (ETS)?\\na) Herpes genital\\nb) Candidiasis vulvovaginal\\nc) Infección por tricomonas\\nd) Virus del papiloma humano\\n25) Durante una valoración para calcular el índice de masa corporal (IMC) de una\\nmujer de 28 años, usted toma las siguientes medidas antropométricas:\\ntalla=160 cm., peso=70kg. Mediante el cálculo de IMC señale la respuesta\\ncorrecta:\\na) Obesidad grado 1\\nb) Peso normal\\nc) Obesidad grado 2\\nd) Sobrepeso\\n26) El manual diagnóstico y estadístico de los trastornos mentales (DSM-5)\\nincluye:\\na) Dependencia al móvil\\nb) Juego patológico\\nc) Dependencia a internet\\nd) Ciberadicción\\n27) La Hafefobia es:\\na) Miedo a la desnudez, ya sea propia o ajena\\nb) Miedo extremo a oler mal\\nc) Miedo irracional acusado y persistente a tocar o ser tocado por otras personas\\nd) Miedo a las olas del mar o de los océanos\\n28) Las posibles complicaciones que nos podemos encontrar y debemos vigilar\\nen un paciente con sonda para nutrición enteral son:\\na) Diarrea, náuseas, vómitos, dolor abdominal\\nb) Desequilibrio hidroelectrolítico, alteraciones hepáticas y deshidratación\\nc) Relacionadas con la sonda: lesiones nasales, obstrucción de la sonda, retirada\\naccidental de la sonda\\nd) Todas son correctas\\n29) ¿Cuáles de las siguientes son escalas de valoración de interacción social y\\nrecursos en el anciano?\\na) OARS y Escala de Filadelfia\\nb) Family APGAR y OARS\\nc) Escala de Zarit y Escala de Gijón\\nd) Prueba del cuidador y Escala de Gijón\\n30) En relación con la Escala OARS, señale la respuesta incorrecta:\\na) Proporciona información sobre la actividad funcional en 5 áreas\\nb) Evalúa las respuestas en una escala de 6 puntos, que van desde excelentes\\nrecursos sociales (1 punto) hasta el deterioro social total (6 puntos)\\nc) Se aplica al cuidador habitual\\nd) Es útil para ser utilizada en el medio residencial\\n31) Un proyecto de educación sanitaria que tiene por objeto facilitar la adquisición\\nde aptitudes que permitan detectar los problemas de violencia familiar en los\\nservicios de urgencia, ¿en qué nivel de prevención se enmarca?\\na) Prevención Primaria\\nb) Prevención Secundaria\\nc) Prevención Terciaria\\nd) Prevención Cuaternaria\\n32) Señale la opción correcta respecto al orden de las etapas incluidas en la visita\\ndomiciliaria:\\na) Introducción registro, desarrollo y planificación\\nb) Planificación, introducción, desarrollo y registro\\nc) Introducción, planificación, desarrollo y registro\\nd) Planificación, introducción, registro y desarrollo\\n33) Al concepto que puede definirse como la reducción del efecto farmacológico\\npresente tras el uso continuado de un fármaco y se manifiesta por la necesidad\\nde aumentar la dosis de forma progresiva para intentar mantener la intensidad\\ndel efecto se le denomina:\\na) Sensibilización\\nb) Tolerancia\\nc) Sinergia\\nd) Inferencia\\n34) A un paciente que ha sufrido un accidente de automóvil y que se le está\\nadministrando oxígeno a través de una cánula nasal, se le determinan los\\ngases sanguíneos arteriales y se obtienen los siguientes resultados: PH=7,28;\\nPO2=91; HCO3- =27,5; Sat O2=95%. ¿Usted sospecharía de un diagnóstico de?\\na) Acidosis respiratoria\\nb) Alcalosis respiratoria\\nc) Acidosis metabólica\\nd) Alcalosis metabólica\\n35) En el listado de verificación quirúrgica, antes de la inducción anestésica, se\\ndebe controlar (señale la incorrecta):\\na) Ayunas\\nb) Riesgo de sangrado\\nc) Comprobación del marcado quirúrgico\\nd) Administración de profilaxis antibiótica ≤60 min\\n36) En relación con la espirometría, señale la respuesta incorrecta:\\na) Uno de los principales aspectos a medir es la Capacidad Vital Forzada (FVC):\\nvolumen de aire exhalado durante una espiración tan rápida y tan completa como\\nsea posible, partiendo desde una situación de inspiración máxima\\nb) Uno de los principales aspectos a medir es el Volumen Espiratorio Forzado en\\nel primer segundo (FEV1): volumen de aire exhalado durante el primer segundo\\nde la maniobra de espiración no forzada\\nc) Una cirugía de ojo reciente es una contraindicación absoluta\\nd) Uno de los principales aspectos a medir es el Volumen Espiratorio Forzado en\\nel sexto segundo (FEV6): volumen de aire que se expulsa en los primeros 6\\nsegundos de la maniobra de espiración forzada\\n37) Un paciente acude a la consulta de enfermería de endocrino, ¿qué valoración\\nno está incluida en la valoración del pie diabético?\\na) Sensibilidad frío-calor\\nb) Exploración del reflejo aquileo\\nc) Sensibilidad protectora mediante monofilamento\\nd) Edemas\\n38) Un paciente con presbiacusia sensorial o sordera neurosensorial:\\na) Presenta dificultad para recibir la frecuencia conversacional\\nb) Tiene dificultad para escuchar los tonos altos\\nc) Refiere dificultad para comprender lo que se le dice\\nd) Ninguna es correcta\\n39) La existencia de la visita domiciliaria, está reflejada en:\\na) Real Decreto 63/1995, de 20 de enero, sobre ordenación de prestaciones\\nsanitarias del Sistema Nacional de Salud\\nb) Ley 41/2002, de 14 de noviembre, básica reguladora de la autonomía del\\npaciente y de derechos y obligaciones en materia de información y\\ndocumentación clínica\\nc) Real Decreto 137/1984, de 11 de enero, de estructuras básicas de salud\\nd) Ley 14/1986, de 25 de abril, General de Sanidad\\n40) El orden de colocación del equipo de protección individual frente al\\ncoronavirus es:\\na) Higiene de manos, bata, mascarilla, protección ocular y guantes\\nb) Higiene de manos, mascarilla, protección ocular, bata y guantes\\nc) Higiene de manos, bata, guantes, mascarilla y protección ocular\\nd) Guantes, mascarilla, higiene de manos, bata, protección ocular\\n41) ¿Cuál es la autora del modelo que se basa en la idea de que el hombre está\\nconstituido por un sistema de conductas cuyos resultados son lo que\\npodemos ver?\\na) Virginia Henderson\\nb) Marta Roger\\nc) Callista Roy\\nd) Dorothy E. Johnson\\n42) ¿Cuál de los siguientes datos le indicaría que un paciente presenta una\\ndacriocistitis?\\na) Inversión del borde palpebral inferior\\nb) Eversión del borde palpebral inferior\\nc) Imposibilidad de cerrar el ojo\\nd) Lagrimeo continuo\\n43) Señale cuál de los siguientes síntomas es indicador de una reacción tardía a\\nuna transfusión sanguínea:\\na) Sangre en orina\\nb) Hiperbilirrubinemia\\nc) Urticaria\\nd) Escalofríos\\n44) Usted sabe que un paciente presenta la clínica de la triada de Beck porque\\nincluye:\\na) Taquicardia, hipertensión arterial, ingurgitación yugular\\nb) Hipotensión arterial, tonos cardiacos apagados, ingurgitación yugular\\nc) Bradicardia, hipertensión arterial, ingurgitación yugular\\nd) Hipertensión, bradicardia, tonos cardiacos apagados\\n45) Según el Reglamento (UE) 2016/679 del Parlamento Europeo, en lo que\\nrespecta al tratamiento de datos personales, señale la correcta:\\na) El interesado no podrá completar datos con declaraciones adicionales salvo que\\nel responsable del tratamiento así lo solicite\\nb) El responsable estará obligado a suprimir los datos personales del interesado\\nque retire su consentimiento\\nc) El interesado no podrá oponerse al tratamiento de datos si ha prestado\\nconsentimiento\\nd) Todas son correctas\\n46) Según el artículo 47 de la Ley Foral 10/1990, de 23 de noviembre, de Salud de\\nNavarra, el Servicio Navarro de Salud, se estructura en los siguientes órganos\\ncentrales:\\na) De dirección, de gestión y de participación\\nb) El Director Gerente, el Consejo Navarro de Salud, el Consejo de Gobierno y las\\nDirecciones que se establezcan reglamentariamente\\nc) De organización, de gestión y de dirección\\nd) A y B son correctas\\n47) Según la clasificación de duelo de Worden, cuando tras haber reprimido una\\nsituación de duelo nos enfrentamos a una nueva pérdida, el duelo puede\\nmanifestarse con una reacción desproporcionada en cuanto a la situación, que\\nlleva al individuo que lo sufre a una situación mucho más intensa, dolorosa e\\nincapacitante, estamos hablando de:\\na) Duelo crónico\\nb) Duelo ausente\\nc) Duelo inhibido\\nd) Duelo exagerado\\n48) Ante una/un paciente mastectomizada/o, la intervención de enfermería\\n“aumentar el afrontamiento” deriva del siguiente diagnóstico de enfermería:\\na) Riesgo de baja autoestima situacional\\nb) Temor\\nc) Afrontamiento ineficaz\\nd) Conocimientos deficientes\\n49) La prueba diagnóstica índice tobillo-brazo, es un método que permite a los\\nprofesionales de enfermería valorar:\\na) Grado de movilidad articular de extremidades inferiores y superiores\\nb) Grado de estenosis arterial de las extremidades inferiores\\nc) Grado de estenosis venosa de las extremidades superiores\\nd) Grado de insuficiencia venosa en extremidades inferiores\\n50) La situación de dependencia según la Ley 39/2006, de 14 de diciembre, de\\nPromoción de la Autonomía Personal y Atención a las personas en situación\\nde dependencia se clasifica en los siguientes grados:\\na) Grado I: dependencia moderada; Grado II: dependencia severa; Grado III: gran\\ndependencia; Grado IV: dependencia total\\nb) Grado I: dependiente; Grado II: independiente; Grado III: autónomo\\nc) Grado I: independiente; Grado II: parcialmente dependiente; Grado III:\\ntotalmente dependiente\\nd) Grado I: dependencia moderada; Grado II: dependencia severa; Grado III: gran\\ndependencia\\n51) Se define reacción idiosincrásica como:\\na) Una reacción donde el fármaco o sus metabolitos actúan como un antígeno\\nb) Una reacción nociva o indeseable que se presenta a dosis normalmente\\nutilizadas\\nc) Una reacción determinada genéticamente a la posología normal del fármaco que\\nse presenta de manera inesperada en un paciente\\nd) Una reacción que produce alteración en el desarrollo embrionario de una\\ngestante al administrarle un fármaco durante el embarazo\\n52) Se debe administrar 500 ml de Suero Glucosalino en 1 hora y 40 minutos, ¿a\\ncuántas gotas/minuto regulará la perfusión?\\na) 10 gotas/minuto\\nb) 50 gotas/minuto\\nc) 60 gotas/minuto\\nd) 100 gotas/minuto\\n53) Según Modolo, “el instrumento que ayuda al individuo a adquirir un\\nconocimiento científico sobre problemas y comportamientos útiles para\\nalcanzar el objetivo de salud”, se denomina:\\na) Prevención de la enfermedad\\nb) Promoción de la salud\\nc) Educación para la salud\\nd) Atención de la enfermedad\\n54) Señale la respuesta incorrecta respecto a las complicaciones crónicas de la\\ndiabetes mellitus:\\na) La enfermedad cerebrovascular es una complicación macrovascular\\nb) La nefropatía es una complicación macrovascular\\nc) La retinopatía es una complicación microvascular\\nd) El pie diabético es una complicación macrovascular\\n55) Para realizar un electrocardiograma, hay que fijar al tórax un determinado\\nnúmero de electrodos: las derivaciones bipolares, las derivaciones\\nmonopolares y las derivaciones torácicas o precordiales. De entre las\\nderivaciones precordiales, ¿dónde se coloca V2?\\na) Quinto espacio intercostal, línea media clavicular izquierda\\nb) Segundo espacio intercostal, línea paraesternal izquierda\\nc) Cuarto espacio intercostal, línea paraesternal izquierda\\nd) Cuarto espacio intercostal, línea paraesternal derecha\\n56) En el aislamiento por gotas, es falso que:\\na) Al entrar en la habitación el profesional hará uso de mascarilla FFP2\\nb) El material desechable utilizado se desechará antes de salir de la habitación\\nc) Se ubicará en habitación individual siempre que sea posible, si no, aislamiento\\nde cohortes\\nd) En el traslado del paciente, se le colocará mascarilla quirúrgica\\n57) Dentro de las escalas que se valoran en el patrón 1 de Gordon\\n(Percepción/manejo de la salud), señale la incorrecta:\\na) Escala de Branca-Vaona\\nb) Escala de Crichton\\nc) Escala de Morisky\\nd) Escala de Stratify\\n58) En relación con el cefalohematoma, señale la respuesta incorrecta:\\na) A la exploración se aprecia una zona endurecida\\nb) Es una acumulación de sangre entre los huesos del cráneo y el periostio\\nc) Es una lesión traumática, que la mayoría de las veces es benigna\\nd) Suele aparecer en los primeros días tras el parto\\n59) Señale la respuesta incorrecta respecto a la enfermedad de la membrana\\nhialina:\\na) Es poco habitual en los nacidos a término\\nb) Se caracteriza por bradipnea y cianosis, con saturaciones de O2 normales\\nc) Está causado por un déficit de surfactante pulmonar\\nd) Es un trastorno pulmonar caracterizado por microatelectasias generalizadas\\n60) Dentro de la Estrategia Navarra de atención integrada a pacientes crónicos y\\npluripatológicos, en su línea estratégica “Promover el autocuidado y\\ngarantizar la atención al cuidador”, ¿cuál de las siguientes acciones no se\\nincluye?\\na) Capacitación del paciente en autocuidados\\nb) Desarrollar los servicios sanitarios necesarios para la rehabilitación y mejora de\\nla capacidad funcional de los pacientes\\nc) Promoción de estrategias de autoayuda\\nd) Capacitación, apoyo y atención a los cuidadores\\n61) Cuando hablamos de “pérdida involuntaria de orina precedida de un intenso\\ndeseo de orinar” estamos hablando de:\\na) Incontinencia de urgencia\\nb) Incontinencia por rebosamiento\\nc) Incontinencia funcional\\nd) Incontinencia de estrés\\n62) Según el sistema de triaje START, a un paciente que lo encontramos con\\nimposibilidad para deambular, una frecuencia respiratoria por debajo de 30\\nrespiraciones por minuto y no presenta pulso radial, le asignaremos una\\nprioridad:\\na) Inmediata\\nb) Diferida\\nc) Leve\\nd) Grave\\n63) Según la Ley Foral 17/2019, de 4 de abril, de Igualdad entre Mujeres y Hombres,\\nindique el enunciado que define brecha de género:\\na) Acceso al mismo trato y oportunidades para el reconocimiento de las libertades\\nfundamentales\\nb) Equilibrio del tiempo y recursos que tienen las personas, particularmente en el\\námbito laboral, profesional y familiar\\nc) La diferencia entre las tasas masculina y femenina que pone de manifiesto la\\ndesigual distribución de recursos, acceso y poder de las mujeres y hombres en\\nun contexto determinado\\nd) Evaluación de la perspectiva de género en todos los niveles de vida\\n64) Dentro del proceso evolutivo propio de todo adolescente (cambios físicos,\\nnuevas formas de pensar y afrontar sentimientos, adopción de nuevos roles\\nsociales) los problemas más frecuentes se relacionan con:\\na) Trastorno de la afectividad\\nb) Disfunciones sexuales\\nc) Sentimiento de pertenencia a grupo social estable\\nd) A y B son correctas\\n65) ¿Cuál de los siguientes comportamientos indica la necesidad de realizar una\\nevaluación más exhaustiva del desarrollo psicomotor del niño?\\na) A los 3 meses no se sostiene sentado\\nb) A los 12 meses no se sostiene de pie sujetándose a algo, no se comunica, no\\nalcanza juguetes sencillos\\nc) A los 18 meses no dice frases espontáneas de dos palabras\\nd) A los 3 meses no sostiene objetos\\n66) Entre los modelos de valoración y evaluación familiar, aquel que representa\\nde forma cuantitativa las relaciones entre los miembros de una unidad familiar\\nmediante un gráfico, se denomina:\\na) Modelo circumplejo de Olson\\nb) Apgar familiar\\nc) Sociograma familiar\\nd) Genograma familiar\\n67) El germen que con más frecuencia puede producir una mastitis es:\\na) Staphylococcus aureus\\nb) Streptococcus agalactiae\\nc) Pseudomonas aeruginosa\\nd) Escherichia coli\\n68) ¿A qué tipo de incontinencia fecal suelen asociarse las demencias?\\na) Incontinencia neurógena\\nb) Incontinencia funcional\\nc) Incontinencia por sobrecarga del esfínter\\nd) Incontinencia por rebosamiento\\n69) Los cuidados de enfermería y recomendaciones en educación para la salud\\napropiados para un paciente que sufre una alteración de la función de los\\nnervios craneales IX y X son:\\na) Aumentar la ingesta de agua y zumos ricos en vitaminas\\nb) Estimular su autonomía dejándole solo mientras come\\nc) Indicarle que se coloque los alimentos en el lado menos sensible de la boca\\nd) Planificar una dieta texturizada variada, incluir gelatinas y purés de frutas y\\nverduras\\n70) Definimos perimenopausia como:\\na) Periodo de meses o años, donde comienzan las alteraciones del ciclo menstrual,\\ntanto en lo que se refiere a la cantidad como a la frecuencia del sangrado\\nb) Periodo en el que se instauran los cambios y síntomas derivados del déficit de\\nestrógenos\\nc) Cese definitivo de la menstruación\\nd) Ninguna es correcta\\n71) En relación con el Programa de Detección de Hipoacusia en Navarra, señale la\\nopción falsa:\\na) Se realiza mediante otoemisiones acústicas de estímulo transitorio\\nb) Se realiza en las primeras 24h de vida\\nc) Si la prueba no es superada se repite a los 15 días de vida\\nd) Para confirmación de la Hipoacusia y su diagnóstico se procede a realizar\\nPotenciales Evocados Auditivos\\n72) Se considera el accidente de trabajo como:\\na) Toda lesión corporal que el trabajador sufra con ocasión o por consecuencia del\\ntrabajo que ejecuta por cuenta ajena\\nb) Todo suceso imprevisto y no deseado que provoca o puede provocar daños y\\npérdidas tanto de tipo lesivo como material\\nc) Todo suceso previsto o imprevisto que provoca daños en la salud de los\\ntrabajadores\\nd) Ninguna de las anteriores\\n73) ¿Cuál es el fin de utilización del Case-Mix?\\na) Realizar un mapeado de procesos\\nb) Calcular costes por clasificación de pacientes\\nc) Elaborar programas de salud\\nd) Analizar problemas detectados\\n74) El número de camas de un centro hospitalario, ¿qué tipo de indicador es?\\na) Indicador de proceso\\nb) Indicador de resultado\\nc) Indicador de estructura\\nd) Indicador de evaluación\\n75) ¿Qué tipo de residuos son los citostáticos?\\na) Residuos sanitarios no específicos\\nb) Residuos sanitarios especiales\\nc) Residuos tipificados en normativas singulares\\nd) Residuos sanitarios urbanos\\n76) Un profesional de enfermería conecta una unidad de sangre a la vía\\nintravenosa del paciente equivocado, pero detecta el error antes de comenzar\\nla infusión. ¿A qué corresponde este suceso en relación a la seguridad del\\npaciente?\\na) Evento adverso\\nb) Incidente\\nc) Circunstancia notificable\\nd) Cuasiincidente\\n77) La forma más eficaz de prevenir las Enfermedades de Transmisión Sexual\\n(ETS) y embarazos no deseados en la adolescencia es:\\na) La anticoncepción postcoital\\nb) Método de doble seguridad\\nc) Uso conjunto de anticoncepción oral y espermicida\\nd) Método anticonceptivo combinado\\n78) Usted va a realizar una investigación comparativa sobre los datos obtenidos\\ncon una búsqueda concreta en bases de datos bibliográficas de ámbito\\nnacional e internacional. Señale cuál de las siguientes es una base de datos\\nnacional:\\na) PubMed\\nb) CINHAL\\nc) LILACS\\nd) ENFISPO\\n79) El conjunto de reglas e instrucciones para realizar una actividad, se\\ncorresponde con:\\na) Una vía clínica\\nb) Una tarea\\nc) Un protocolo\\nd) Un procedimiento\\n80) Señale cuál de los siguientes no es un dominio NANDA:\\na) Afrontamiento/tolerancia al estrés\\nb) Rol/relaciones\\nc) Sueño/descanso\\nd) Crecimiento/desarrollo\\n81) Es un criterio de exclusión en la vía clínica de recuperación intensificada en\\ncirugía del adulto (RICA)\\na) Edad: Mayores de 18 años\\nb) Aceptación del procedimiento\\nc) Cualquier ASA\\nd) Cirugía urgente\\n82) El sistema de puntuación de recuperación post anestésica de Aldrete, no\\nincluye entre sus parámetros:\\na) Saturación de oxigeno\\nb) Consciencia\\nc) Circulación\\nd) Dolor\\n83) ¿De qué control de esterilización forma parte la representación gráfica del\\nciclo de presiones?\\na) Físico\\nb) Biológico\\nc) Químico\\nd) No es un control de esterilización\\n84) ¿Cuál de las siguientes no es una prestación incluida en la Ley 39/2006, de 14\\nde diciembre, de Promoción de la Autonomía Personal y Atención a las\\nPersonas en situación de Dependencia?\\na) Servicio de Teleasistencia\\nb) Servicio de Ayuda en atención especializada\\nc) Servicio de Centros de Día y de Noche\\nd) Servicio de Ayuda a domicilio\\n85) A la utilización de las máximas posibilidades terapéuticas cuando han dejado\\nde tener este carácter si se tiene en cuenta la totalidad de la persona del\\npaciente, ya que no son de ningún beneficio y sólo consiguen prolongar\\nbiológicamente su vida, se le conoce como:\\na) Eutanasia involuntaria\\nb) Encarnizamiento terapéutico\\nc) Distanasia\\nd) B y C son correctas\\n86) Un profesional de enfermería atiende en su consulta a un paciente de 88 años.\\nPor las características de éste, despierta en él/ella una serie de emociones que\\npueden afectar a los cuidados. Esto se conoce como:\\na) Compensación\\nb) Contratransferencia\\nc) Proyección\\nd) Transferencia\\n87) En relación al consentimiento informado, señale la respuesta correcta:\\na) Siempre se otorgará por representación en casos de procedimientos invasivos\\ny/o cruentos\\nb) Por regla general será verbal\\nc) Se regula en el Decreto Foral 241/1998 de 3 de agosto\\nd) Todas son incorrectas\\n88) Señale la afirmación incorrecta:\\na) Metaanálisis MAL: Cuando los datos se extraen de los artículos publicados en la\\nliteratura\\nb) Metaanálisis MAP: Cuando la información se obtiene solicitando a los autores de\\nlos artículos publicados los datos originales de cada paciente y solicitando a las\\ncompañías farmacéuticas o a grupos de investigación los datos no publicados\\nc) Metaanálisis MAE: Cuando los datos se obtienen de estudios experimentales\\nd) Metaanálisis acumulativo: Cuando a un metaanálisis previo, se le suman los\\nresultados de un nuevo ensayo publicado recientemente para así obtener\\ncronológicamente un efecto acumulativo\\n89) La altura superada por el 25% de la población es:\\na) El percentil 25\\nb) El percentil 75\\nc) Entre el percentil 25 y 75\\nd) El cuartil 25\\n90) Entre los principales elementos paralingüísticos de la comunicación, se\\nencuentra:\\na) La sonrisa\\nb) La mirada\\nc) Los gestos\\nd) El volumen de la voz\\n91) Son tipos de regresión estadística:\\na) Regresión lineal simple\\nb) Regresión curvilínea\\nc) Regresión múltiple\\nd) Todas son correctas\\n92) ¿Cuál de los siguientes fármacos citotóxicos es irritante?\\na) Epirubicina\\nb) Dacarbacina\\nc) Bleomicina\\nd) Carboplatino\\n93) Un aspecto cuantitativo del apoyo social lo constituyen:\\na) El número de contactos e interacciones mantenidos por una persona\\nb) Los momentos que hemos necesitado de otras personas para llevar a cabo\\nnuestros objetivos\\nc) La percepción de pertenencia a un grupo social y la obligación mutua que una\\npersona posee con otra\\nd) Las acciones o apoyos objetivos que nos proporciona junto a la valoración que\\nel receptor le otorga\\n94) Según el artículo 49 de la Ley Foral 10/1990, de 23 de noviembre, de Salud de\\nNavarra, corresponde al Consejo de Gobierno, entre otras atribuciones:\\na) Aprobar el anteproyecto de Presupuestos del Servicio Navarro de Salud\\nb) Elaborar la Memoria Anual del Servicio Navarro de Salud\\nc) Dictar las instrucciones relativas al funcionamiento y la organización internas del\\nServicio Navarro de Salud\\nd) Todas las respuestas anteriores son correctas\\n95) Se considera portador convaleciente:\\na) Al que elimina microorganismos patógenos antes de que se desarrolle la\\nenfermedad\\nb) Al que ha padecido la enfermedad infecciosa de la que han desaparecido los\\nsíntomas, pero sigue eliminando microorganismos patógenos\\nc) Al que no padece la enfermedad porque posee cierto grado de inmunidad\\nd) Aquella persona sana que elimina microorganismos\\n96) Tras un test de O’Sullivan positivo, se procederá a confirmar la existencia de\\ndiabetes gestacional mediante la realización de una sobrecarga oral de\\nglucosa. Respecto a los valores límite de glucosa obtenidos en las mediciones\\nposteriores, ¿cuál de los siguientes es erróneo?\\na) Glucemia superior a 145 mg/dl a las 3 horas de la sobrecarga\\nb) Glucemia basal de 100 mg/dl\\nc) Glucemia superior a 190 mg/dl a los 60 minutos de la sobrecarga\\nd) Glucemia superior a 165 mg/dl a los 120 minutos de la sobrecarga\\n97) Según el modelo PRECEDE en educación para la salud, cuando nos referimos\\na “los distintos factores internos que supone una motivación para actuar en\\nuna persona o grupo”, estamos hablando de:\\na) Factores reforzadores\\nb) Factores facilitadores\\nc) Factores predisponentes\\nd) Factores identificadores\\n98) Señale cuál es una característica de la vacuna inactivada:\\na) Tiende a ser menos estable\\nb) Por norma general, se administra en una única dosis\\nc) No requiere coadyuvantes\\nd) Inducen sólo anticuerpos\\n99) Teniendo en cuenta los principios generales en cuanto al intervalo mínimo\\nentre la administración no simultánea de vacunas, identifique el intervalo\\nmínimo entre una vacuna inactivada y otra atenuada:\\na) Dos semanas\\nb) Ninguno\\nc) Cuatro semanas\\nd) Seis semanas\\n100) Cuáles de estos ítems son momentos de la higiene de manos:\\na) Antes de una tarea aséptica y después de una exposición a fluidos corporales\\nb) Después del contacto con el entorno del paciente\\nc) Antes y después del contacto con el paciente\\nd) Todas son correctas\\nRESERVA\\n1) Con respecto a las nacionalidades y regiones, la Constitución garantiza y\\nreconoce:\\na) La solidaridad y el derecho a la autonomía\\nb) La igualdad y solidaridad\\nc) La igualdad y la autonomía\\nd) La autodeterminación y la solidaridad\\n2) De las siguientes técnicas de educación para la salud, identifique la que se\\nconsidera técnica de análisis:\\na) Role-playing\\nb) Método del caso\\nc) Fotopalabra\\nd) Rejilla\\n3) Señale la respuesta incorrecta en relación al indicador “Tasa de\\nambulatorización quirúrgica” según el RAE-CMBD:\\na) El dato del denominador viene dado por el total de intervenciones quirúrgicas\\nb) El dato del numerador viene dado por el número de intervenciones quirúrgicas\\nsin ingreso\\nc) Es la relación entre intervenciones quirúrgicas realizadas con y sin ingreso y total\\nde intervenciones quirúrgicas realizadas\\nd) Para el cálculo de este indicador se utiliza el CMBD de hospitalización y el CMBD\\nde la atención ambulatoria especializada\\n4) Señale cuál de las siguientes actividades desarrolladas por el profesional de\\nenfermería comunitaria corresponde a la promoción de la salud:\\na) Información sobre las posibles pruebas de diagnóstico precoz de algunas\\nenfermedades\\nb) Recomendaciones sobre los estilos de vida sanos\\nc) Reeducación conductual a individuos drogodependientes\\nd) Posibilidades terapéuticas para el abandono del tabaquismo\\n5) Según el artículo 7.1 de la Ley 16/2003, de 28 de mayo, de Cohesión y Calidad\\ndel Sistema Nacional de Salud, el catálogo de prestaciones del Sistema\\nNacional de Salud tiene por objeto:\\na) Sistematizar cuáles son las prestaciones sanitarias contempladas en el seno del\\nSistema Nacional de Salud\\nb) Describir las prestaciones sanitarias financiadas públicamente y que se\\nprestarán por el Sistema Nacional de Salud\\nc) Describir las prestaciones, tanto sanitarias como no sanitarias, que se\\nfinanciarán con fondos públicos con cargo a los presupuestos de sanidad\\nd) Garantizar las condiciones básicas y comunes para una atención integral,\\ncontinuada y en el nivel adecuado de atención\\n6) ¿Cuál de los siguientes enunciados no es correcto, en relación con la clínica\\nde las úlceras gástricas y duodenales?:\\na) El dolor en la úlcera duodenal se alivia con la ingesta o con antiácidos\\nb) El dolor en las úlceras duodenales se localiza en epigastrio\\nc) En la úlcera gástrica, el dolor no se alivia habitualmente con la ingesta de\\nalimentos\\nd) El dolor en las úlceras gástricas se localiza en hipogastrio\\n7) ¿Cuál de los siguientes signos propios de la triada de Cushing revelan un\\naumento de la presión intracraneal:\\na) Taquicardia, bradipnea e hipertensión\\nb) Bradicardia, bradipnea e hipertensión\\nc) Bradicardia, taquipnea e hipotensión\\nd) Taquicardia, taquipnea e hipertensión\\n8) La acreditación es:\\na) Un procedimiento voluntario de verificación externo realizado por un órgano\\nindependiente, dirigido a evaluar el grado de cumplimentación de una serie de\\nrequisitos de calidad previamente establecidos\\nb) La constatación por parte de un organismo externo del cumplimiento de una\\nnorma\\nc) Un proceso por el cual las empresas introducen cambios para perseguir y\\nalcanzar la mejora continua\\nd) Un proceso sistemático, independiente y documentado para obtener evidencias\\ny evaluarlas de manera continua\\n9) En la elaboración de un Plan de Cuidados de Enfermería para un paciente con\\nACV, tendremos en cuenta diferentes diagnósticos. ¿Cuál de los siguientes no\\nes habitual encontrar en este tipo de enfermos?\\na) Riesgo de intolerancia a la actividad\\nb) Aumento del gasto cardíaco\\nc) Desatención unilateral\\nd) Deterioro de la habilidad de traslación\\n10) Al administrar un medicamento utilizamos el sistema de las cinco\\ncomprobaciones, señale la opción correcta:\\na) Paciente correcto, fármaco correcto, vía correcta, dosis correcta y frecuencia\\ncorrecta\\nb) Fármaco correcto, vía correcta, dosis correcta, hora correcta y frecuencia\\ncorrecta\\nc) Paciente correcto, fármaco correcto, dosis correcta, vía correcta y hora correcta\\nd) Paciente correcto, frecuencia correcta, fármaco correcto, dosis correcta y vía\\ncorrecta'}]\n"
     ]
    }
   ],
   "source": [
    "# Carpeta donde se encuentran los PDFs\n",
    "pdf_path = \"NV2022-Preguntas.pdf\"\n",
    "pdf_ara= extract_questions(pdf_path)\n",
    "\n",
    "print(pdf_ara)\n"
   ]
  },
  {
   "cell_type": "code",
   "execution_count": null,
   "id": "9d166e8e",
   "metadata": {},
   "outputs": [],
   "source": []
  }
 ],
 "metadata": {
  "kernelspec": {
   "display_name": "Python 3 (ipykernel)",
   "language": "python",
   "name": "python3"
  },
  "language_info": {
   "codemirror_mode": {
    "name": "ipython",
    "version": 3
   },
   "file_extension": ".py",
   "mimetype": "text/x-python",
   "name": "python",
   "nbconvert_exporter": "python",
   "pygments_lexer": "ipython3",
   "version": "3.9.13"
  }
 },
 "nbformat": 4,
 "nbformat_minor": 5
}
